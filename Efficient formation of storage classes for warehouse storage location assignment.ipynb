{
 "cells": [
  {
   "cell_type": "markdown",
   "id": "1eda3964",
   "metadata": {},
   "source": [
    "#### Decision Variables\n",
    "\n",
    "-   $x_{pc} \\in \\{0, 1\\}$:  \n",
    "    = 1 if product $p$ is assigned to storage class $c$; 0 otherwise.\n",
    "\n",
    "-   $y_{lc} \\in \\{0, 1\\}$:  \n",
    "    = 1 if location (or slot) $l$ is allocated to class $c$; 0 otherwise.\n",
    "\n",
    "#### Parameters\n",
    "\n",
    "-   $a_l$: area (or capacity) of location $l$.\n",
    "\n",
    "-   $d_l$: \"depth\" or average travel-distance to location $l$.\n",
    "\n",
    "-   $D_p$: total demand (or pick frequency) of product $p$.\n",
    "\n",
    "-   $f, h$: fixed-cost and per-unit handling-cost coefficients.\n",
    "\n",
    "-   (Optionally) $I_p^t, f_p$: if you enforce that in any time period $t$ the total picks assigned to class $c$ do not exceed its capacity.\n"
   ]
  },
  {
   "cell_type": "markdown",
   "id": "136f550a",
   "metadata": {},
   "source": [
    "#### Objective Function\n",
    "\n",
    "$$\n",
    "\\min z = f \\sum_c \\sum_l a_l y_{lc} + 2h \\sum_c \\left[ \\underbrace{\\sum_l a_l d_l y_{lc}}_{\\text{\"avg. travel distance to class } c\\text{\"}} \\times \\underbrace{\\sum_p D_p x_{pc}}_{\\text{\"total picks assigned to class } c\\text{\"}} \\right]\n",
    "$$\n",
    "\n",
    "-   First term: total fixed cost of \"opening\" the area for each class.\n",
    "-   Second: for each class $c$, avg. distance to that class $\\times$ total picks assigned to that class, scaled by $2h$.\n"
   ]
  },
  {
   "cell_type": "markdown",
   "id": "018ab26e",
   "metadata": {},
   "source": [
    "#### Constraints\n",
    "\n",
    "##### 1. Assignment\n",
    "\n",
    "$$\n",
    "\\sum_{c} x_{pc} = 1 \\quad \\forall p\n",
    "$$\n",
    "\n",
    "##### 2. Capacity (peak-load) — if enforced:\n",
    "\n",
    "$$\n",
    "\\max_{t} \\left[ \\sum_{p} I_{p}^{t} f_{p} x_{pc} \\right] \\leq \\sum_{l} a_{l} y_{lc} \\quad \\forall c\n",
    "$$\n",
    "\n",
    "##### 3. Location-uniqueness:\n",
    "\n",
    "$$\n",
    "\\sum_{c} y_{lc} \\leq 1 \\quad \\forall l\n",
    "$$\n",
    "\n",
    "##### 4. Binaries:\n",
    "\n",
    "$$\n",
    "x_{pc}, \\, y_{lc} \\in \\{0, 1\\}\n",
    "$$\n"
   ]
  },
  {
   "cell_type": "markdown",
   "id": "4af84230",
   "metadata": {},
   "source": [
    "In Gurobi we can only work with linear or quadratic equation so we need to linearize the 2nd part of the objective function to make the model.\n"
   ]
  },
  {
   "cell_type": "markdown",
   "id": "2a633c66",
   "metadata": {},
   "source": [
    "#### Import libraries\n"
   ]
  },
  {
   "cell_type": "code",
   "execution_count": 74,
   "id": "d4e5380a",
   "metadata": {},
   "outputs": [],
   "source": [
    "import gurobipy as gp\n",
    "from gurobipy import GRB"
   ]
  },
  {
   "cell_type": "code",
   "execution_count": 75,
   "id": "8ed9b26f",
   "metadata": {},
   "outputs": [],
   "source": [
    "#assuming parameter\n",
    "n_products  = 20\n",
    "n_classes   = 4\n",
    "n_locations = 15"
   ]
  },
  {
   "cell_type": "code",
   "execution_count": 76,
   "id": "524259ce",
   "metadata": {},
   "outputs": [],
   "source": [
    "#assuming data\n",
    "area      = {l: 10 + 2*l for l in range(n_locations)}    # a_l\n",
    "depth     = {l: 5  + 1*l for l in range(n_locations)}    # d_l\n",
    "demand    = {p: 100 + 5*p for p in range(n_products)}    # D_p\n",
    "fixed_f  = 1000   # f\n",
    "handle_h =    2   # h\n",
    "\n",
    "# Global bounds for McCormick\n",
    "# E[c] = ∑ a[l]*y[l,c], so:\n",
    "E_min = 1e-6\n",
    "E_max = sum(area.values())\n",
    "# N[c] = ∑ D[p]*x[p,c], so:\n",
    "N_min = 0.0\n",
    "N_max = sum(demand.values())\n",
    "# Ratio r[c] = T[c]/E[c] — estimate plausible bounds\n",
    "r_min = 0.1\n",
    "r_max = max(depth.values())\n"
   ]
  },
  {
   "cell_type": "code",
   "execution_count": 77,
   "id": "4edaf368",
   "metadata": {},
   "outputs": [],
   "source": [
    "m = gp.Model(\"ClassFormation_PWL\")"
   ]
  },
  {
   "cell_type": "code",
   "execution_count": 78,
   "id": "ba4053e8",
   "metadata": {},
   "outputs": [],
   "source": [
    "x  = m.addVars(n_products, n_classes, vtype=GRB.BINARY, name=\"x\")\n",
    "y  = m.addVars(n_locations, n_classes, vtype=GRB.BINARY, name=\"y\")\n",
    "\n",
    "E  = m.addVars(n_classes, lb=E_min, ub=E_max, name=\"E\")   # total area per class\n",
    "T  = m.addVars(n_classes, lb=0.0,  ub=E_max * r_max, name=\"T\")   # weighted depth\n",
    "N  = m.addVars(n_classes, lb=N_min, ub=N_max, name=\"N\")   # total picks\n",
    "\n",
    "r  = m.addVars(n_classes, lb=r_min, ub=r_max, name=\"r\")   # ratio = T/E\n",
    "zc = m.addVars(n_classes, lb=0.0,  ub=r_max * N_max, name=\"zc\")  # zc = r * N"
   ]
  },
  {
   "cell_type": "markdown",
   "id": "9b77257f",
   "metadata": {},
   "source": [
    "#### Constraints\n"
   ]
  },
  {
   "cell_type": "code",
   "execution_count": 79,
   "id": "5102ea8b",
   "metadata": {},
   "outputs": [],
   "source": [
    "for c in range(n_classes):\n",
    "    m.addConstr(E[c] == gp.quicksum(area[l] * y[l, c] for l in range       (n_locations)), name=f\"DefE_{c}\")\n",
    "    m.addConstr(T[c] == gp.quicksum(area[l] * depth[l] * y[l, c] for l in range(n_locations)),name=f\"DefT_{c}\")\n",
    "    m.addConstr(N[c] == gp.quicksum(demand[p] * x[p, c] for p in range(n_products)),name=f\"DefN_{c}\")\n"
   ]
  },
  {
   "cell_type": "code",
   "execution_count": 80,
   "id": "c93354e6",
   "metadata": {},
   "outputs": [],
   "source": [
    "for p in range(n_products):\n",
    "    m.addConstr(gp.quicksum(x[p, c] for c in range(n_classes)) == 1,\n",
    "                name=f\"Assign_{p}\")\n",
    "for l in range(n_locations):\n",
    "    m.addConstr(gp.quicksum(y[l, c] for c in range(n_classes)) <= 1,\n",
    "                name=f\"OneClassPerLoc_{l}\")\n"
   ]
  },
  {
   "cell_type": "code",
   "execution_count": 81,
   "id": "2d37d316",
   "metadata": {},
   "outputs": [],
   "source": [
    "for c in range(n_classes):\n",
    "    m.addConstr(T[c] >= r_min * E[c] + E_min * r[c] - r_min * E_min, name=f\"Mc1_T_{c}\")\n",
    "    m.addConstr(T[c] >= r_max * E[c] + E_max * r[c] - r_max * E_max, name=f\"Mc2_T_{c}\")\n",
    "    m.addConstr(T[c] <= r_max * E[c] + E_min * r[c] - r_max * E_min, name=f\"Mc3_T_{c}\")\n",
    "    m.addConstr(T[c] <= r_min * E[c] + E_max * r[c] - r_min * E_max, name=f\"Mc4_T_{c}\")\n",
    "    m.addConstr(zc[c] >= r_min * N[c] + N_min * r[c] - r_min * N_min, name=f\"Mc1_z_{c}\")\n",
    "    m.addConstr(zc[c] >= r_max * N[c] + N_max * r[c] - r_max * N_max, name=f\"Mc2_z_{c}\")\n",
    "    m.addConstr(zc[c] <= r_max * N[c] + N_min * r[c] - r_max * N_min, name=f\"Mc3_z_{c}\")\n",
    "    m.addConstr(zc[c] <= r_min * N[c] + N_max * r[c] - r_min * N_max, name=f\"Mc4_z_{c}\")"
   ]
  },
  {
   "cell_type": "markdown",
   "id": "42c0cfdb",
   "metadata": {},
   "source": [
    "#### Objective function\n"
   ]
  },
  {
   "cell_type": "code",
   "execution_count": 82,
   "id": "d531d0a2",
   "metadata": {},
   "outputs": [],
   "source": [
    "#   f * Σ E[c]  +  2h * Σ zc[c]\n",
    "obj_linear = fixed_f * gp.quicksum(E[c]  for c in range(n_classes))\n",
    "obj_nl     = 2 * handle_h * gp.quicksum(zc[c] for c in range(n_classes))\n",
    "m.setObjective(obj_linear + obj_nl, GRB.MINIMIZE)"
   ]
  },
  {
   "cell_type": "code",
   "execution_count": 83,
   "id": "a627c6ee",
   "metadata": {},
   "outputs": [
    {
     "name": "stdout",
     "output_type": "stream",
     "text": [
      "Set parameter TimeLimit to value 300\n",
      "Gurobi Optimizer version 12.0.2 build v12.0.2rc0 (win64 - Windows 11.0 (26100.2))\n",
      "\n",
      "CPU model: 13th Gen Intel(R) Core(TM) i7-13700HX, instruction set [SSE2|AVX|AVX2]\n",
      "Thread count: 16 physical cores, 24 logical processors, using up to 24 threads\n",
      "\n",
      "Non-default parameters:\n",
      "TimeLimit  300\n",
      "\n",
      "Optimize a model with 79 rows, 160 columns and 440 nonzeros\n",
      "Model fingerprint: 0x3f5ac5e2\n",
      "Variable types: 20 continuous, 140 integer (140 binary)\n",
      "Coefficient statistics:\n",
      "  Matrix range     [1e-06, 3e+03]\n",
      "  Objective range  [4e+00, 1e+03]\n",
      "  Bounds range     [1e-06, 6e+04]\n",
      "  RHS range        [1e-07, 6e+04]\n",
      "Presolve removed 8 rows and 0 columns\n",
      "Presolve time: 0.00s\n",
      "Presolved: 71 rows, 160 columns, 420 nonzeros\n",
      "Variable types: 8 continuous, 152 integer (140 binary)\n",
      "\n",
      "Root relaxation: objective 1.180000e+03, 35 iterations, 0.00 seconds (0.00 work units)\n",
      "\n",
      "    Nodes    |    Current Node    |     Objective Bounds      |     Work\n",
      " Expl Unexpl |  Obj  Depth IntInf | Incumbent    BestBd   Gap | It/Node Time\n",
      "\n",
      "*    0     0               0    1180.0040000 1180.00400  0.00%     -    0s\n",
      "\n",
      "Explored 1 nodes (56 simplex iterations) in 0.01 seconds (0.00 work units)\n",
      "Thread count was 24 (of 24 available processors)\n",
      "\n",
      "Solution count 1: 1180 \n",
      "\n",
      "Optimal solution found (tolerance 1.00e-04)\n",
      "Best objective 1.180004000000e+03, best bound 1.180004000000e+03, gap 0.0000%\n"
     ]
    }
   ],
   "source": [
    "m.write(\"Efficient formation of storage classes for warehouse storage location assignment.lp\")\n",
    "m.Params.TimeLimit = 300\n",
    "m.optimize()"
   ]
  },
  {
   "cell_type": "code",
   "execution_count": 84,
   "id": "b196c295",
   "metadata": {},
   "outputs": [
    {
     "name": "stdout",
     "output_type": "stream",
     "text": [
      "\n",
      "Objective Value: 1180.00\n",
      "\n",
      "Product → Class assignments:\n",
      "  Product 0 → Class 0\n",
      "  Product 1 → Class 0\n",
      "  Product 2 → Class 3\n",
      "  Product 3 → Class 0\n",
      "  Product 4 → Class 0\n",
      "  Product 5 → Class 0\n",
      "  Product 6 → Class 0\n",
      "  Product 7 → Class 0\n",
      "  Product 8 → Class 0\n",
      "  Product 9 → Class 0\n",
      "  Product 10 → Class 0\n",
      "  Product 11 → Class 3\n",
      "  Product 12 → Class 3\n",
      "  Product 13 → Class 0\n",
      "  Product 14 → Class 0\n",
      "  Product 15 → Class 0\n",
      "  Product 16 → Class 1\n",
      "  Product 17 → Class 1\n",
      "  Product 18 → Class 1\n",
      "  Product 19 → Class 1\n",
      "\n",
      "Location → Class assignments:\n",
      "  Location 0 → not assigned to any class\n",
      "  Location 1 → not assigned to any class\n",
      "  Location 2 → not assigned to any class\n",
      "  Location 3 → not assigned to any class\n",
      "  Location 4 → not assigned to any class\n",
      "  Location 5 → not assigned to any class\n",
      "  Location 6 → not assigned to any class\n",
      "  Location 7 → not assigned to any class\n",
      "  Location 8 → not assigned to any class\n",
      "  Location 9 → not assigned to any class\n",
      "  Location 10 → not assigned to any class\n",
      "  Location 11 → not assigned to any class\n",
      "  Location 12 → not assigned to any class\n",
      "  Location 13 → not assigned to any class\n",
      "  Location 14 → not assigned to any class\n"
     ]
    }
   ],
   "source": [
    "if m.status == GRB.OPTIMAL or m.solCount > 0:\n",
    "    print(f\"\\nObjective Value: {m.ObjVal:.2f}\\n\")\n",
    "    print(\"Product → Class assignments:\")\n",
    "    for p in range(n_products):\n",
    "        assigned = False\n",
    "        for c in range(n_classes):\n",
    "            if x[p, c].X > 0.5:\n",
    "                print(f\"  Product {p} → Class {c}\")\n",
    "                assigned = True\n",
    "                break\n",
    "        if not assigned:\n",
    "            print(f\"  Product {p} → not assigned to any class\")\n",
    "\n",
    "    print(\"\\nLocation → Class assignments:\")\n",
    "    for l in range(n_locations):\n",
    "        assigned = False\n",
    "        for c in range(n_classes):\n",
    "            if y[l, c].X > 0.5:\n",
    "                print(f\"  Location {l} → Class {c}\")\n",
    "                assigned = True\n",
    "                break\n",
    "        if not assigned:\n",
    "            print(f\"  Location {l} → not assigned to any class\")\n",
    "\n",
    "else:\n",
    "    print(\"No feasible solution found; status code:\", m.status)\n"
   ]
  },
  {
   "cell_type": "code",
   "execution_count": null,
   "id": "231b9ee2",
   "metadata": {},
   "outputs": [],
   "source": []
  },
  {
   "cell_type": "code",
   "execution_count": null,
   "id": "1c9e36d6",
   "metadata": {},
   "outputs": [],
   "source": []
  },
  {
   "cell_type": "code",
   "execution_count": null,
   "id": "971324e7",
   "metadata": {},
   "outputs": [],
   "source": []
  },
  {
   "cell_type": "code",
   "execution_count": null,
   "id": "29a62497",
   "metadata": {},
   "outputs": [],
   "source": []
  }
 ],
 "metadata": {
  "kernelspec": {
   "display_name": "py-TF",
   "language": "python",
   "name": "my-env"
  },
  "language_info": {
   "codemirror_mode": {
    "name": "ipython",
    "version": 3
   },
   "file_extension": ".py",
   "mimetype": "text/x-python",
   "name": "python",
   "nbconvert_exporter": "python",
   "pygments_lexer": "ipython3",
   "version": "3.12.8"
  }
 },
 "nbformat": 4,
 "nbformat_minor": 5
}
